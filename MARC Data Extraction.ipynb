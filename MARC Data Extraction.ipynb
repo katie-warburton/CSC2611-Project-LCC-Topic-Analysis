{
 "cells": [
  {
   "cell_type": "markdown",
   "id": "7a80d81b",
   "metadata": {},
   "source": [
    "# MARC Data Extraction\n",
    "\n",
    "Extract bibliographic information from MARC records \n",
    "\n",
    "\n",
    "## Attributions\n",
    "\n",
    "This report contains information from [OhioLINK Circulation Data](https://www.oclc.org/research/areas/systemwide-library/ohiolink/circulation.html) which is made available by OCLC Online Computer Library Center, Inc. and OhioLINK under the [ODC Attribution License]( https://www.oclc.org/research/areas/systemwide-library/ohiolink/odcby.html).\n",
    "\n",
    "\n",
    "## Imports\n",
    "\n",
    "- *pymarc* handles the bibliographic data stored in .marc files "
   ]
  },
  {
   "cell_type": "code",
   "execution_count": 2,
   "id": "3721d2e6",
   "metadata": {},
   "outputs": [],
   "source": [
    "import pickle\n",
    "import random\n",
    "from pymarc import MARCReader\n",
    "import sys\n",
    "#!{sys.executable} -m spacy download en\n"
   ]
  },
  {
   "cell_type": "markdown",
   "id": "96434e12",
   "metadata": {},
   "source": [
    "## Bibliographic Data\n",
    "\n",
    "Bibliograhic data is stored in .marc files that follow the MARC 21 standard for bibliographic data. MARC files are parsed to extract Library of Congress Call Numbers (LCCNs) for each item with a unique OCLC number. A unique OCLC number corresponds to a unique library resource (i.e. book, enyclopedia, article, etc.) \n",
    "\n",
    "\n",
    "#### Missing LCCN Data\n",
    "Items that did not have a LCCN did not contain a field with the tag '050'. \n",
    "- Some records contain a field with tag '090' for locally assigned LCCNs. \n",
    "- Records without '090' or '050' tag appear to not contain LCCN data within the marc file.\n",
    "    - On [Classify](http://classify.oclc.org/classify2/ClassifyDemo?&startRec=0) these items contained LCCN numbers for some holdings while some where unclassified. \n",
    "    - For example, see the entry for an item with OCLC # [6728](http://classify.oclc.org/classify2/ClassifyDemo?search-standnum-txt=6728&startRec=0).\n",
    "\n",
    "#### Items with more than one LCCN\n",
    "\n",
    "Some MARC files can have multiple LCCN tags (multiple entries tagged with '050'). For now only the first tag is considered\n",
    "\n",
    "#### Summary of relevant tags \n",
    "- '050': Library of Congress Classification Number \n",
    "- '090': Locally assigned LCCN (not supposed to be used anymore but still exists)\n",
    "- '001': OCLC number (for this dataset)\n",
    "### Loading Bibliographic Data"
   ]
  },
  {
   "cell_type": "code",
   "execution_count": 5,
   "id": "ecd8a709",
   "metadata": {},
   "outputs": [],
   "source": [
    "filePath1 = 'OhioCirculationData/OhioLINK_1.marc'\n",
    "filePath2 = 'OhioCirculationData/OhioLINK_2.marc'\n",
    "\n",
    "def getMarcData(filepath, bibList, noLCC):\n",
    "    i = 0\n",
    "    with open(filepath, 'rb') as f:\n",
    "        reader = MARCReader(f, to_unicode=True, force_utf8=True,utf8_handling='ignore')\n",
    "        for record in reader:\n",
    "            if i == 0:\n",
    "                example = record \n",
    "            # Library of Congress Call Number \n",
    "            lcc = [subfield for field in record.get_fields('050') for subfield in field.get_subfields('a')]\n",
    "            if lcc == []:\n",
    "                lcc = [subfield for field in record.get_fields('090') for subfield in field.get_subfields('a')]\n",
    "                if lcc == []:\n",
    "                    num = random.randint(1, 1000)\n",
    "                    if num == 1:\n",
    "                        noLCC.append(record)     \n",
    "            # summary\n",
    "            summary = [subfield for field in record.get_fields('520') for subfield in field.get_subfields('a')]\n",
    "            # OCLC number, LCCN, year published, title, summary, languages\n",
    "            bibList.append(((int(record['001'].value()[3:])), lcc, record.pubyear(), record.title(), summary))\n",
    "            i+=1\n",
    "    return (bibList, noLCC, example)\n",
    "\n",
    "try:\n",
    "    with open ('ohioLCCData_withSummary.pkl', 'rb') as f:\n",
    "        bibList = pickle.load(f)\n",
    "        example = pickle.load(f)\n",
    "        noLCC = pickle.load(f)\n",
    "        \n",
    "except FileNotFoundError:\n",
    "    bibList = []\n",
    "    noLCC = []\n",
    "    bibList, noLCC, example = getMarcData(filePath1, bibList, noLCC)\n",
    "    bibList, noLCC, _ = getMarcData(filePath2, bibList, noLCC)\n",
    "\n",
    "    with open('ohioLCCData_withSummary.pkl', 'wb') as f:\n",
    "        pickle.dump(bibList, f)\n",
    "        pickle.dump(example, f)\n",
    "        pickle.dump(noLCC, f)"
   ]
  },
  {
   "cell_type": "markdown",
   "id": "888fb565",
   "metadata": {},
   "source": [
    "### Example of bibliographic data\n",
    "\n",
    "- The first is an example of an entry in a .marc file. \n",
    "- The second is a tuple containg the relevant information extracted from the .marc file\n",
    "    - (OCLC number, LCCN, year published, title)\n",
    "- The third is an additional example of data stored in the tuple"
   ]
  },
  {
   "cell_type": "code",
   "execution_count": 6,
   "id": "a7c4ac51",
   "metadata": {},
   "outputs": [
    {
     "name": "stdout",
     "output_type": "stream",
     "text": [
      "=LDR  01075cam  2200289 a 4500\n",
      "=001  ocm00000001\\\n",
      "=003  OCoLC\n",
      "=005  20061229000001.0\n",
      "=008  690526s1963\\\\\\\\ilua\\\\\\j\\\\\\\\\\\\000\\1\\eng\\\\\n",
      "=010  \\\\$a   63011276 \n",
      "=040  \\\\$aDLC$cDLC$dIUL$dOCL$dOCLCQ$dTML$dOCL$dOCLCQ$dBTCTA\n",
      "=019  \\\\$a6567842$a9987701$a53095235\n",
      "=042  \\\\$alcac\n",
      "=050  00$aPZ5$b.R1924 \n",
      "=082  00$a[Fic]\n",
      "=096  \\\\$aQV 4 An78 v.46 2006\n",
      "=245  04$aThe Rand McNally book of favorite pastimes /$cillustrated by Dorothy Grider.\n",
      "=246  30$aFavorite pastimes\n",
      "=260  \\\\$aChicago :$bRand McNally,$c[1963]\n",
      "=300  \\\\$a110 p. :$bcol. ill. ;$c33 cm.\n",
      "=520  \\\\$aBoys and girls in these four stories work hard to master ballet dancing, riding, baton twirling, and swimming.\n",
      "=505  0\\$aLittle ballerina / by D. Grider -- Little horseman / by M. Watts -- Little majorette / by D. Grider -- Little swimmers / by V. Hunter.\n",
      "=650  \\1$aShort stories.\n",
      "=700  1\\$aGrider, Dorothy.\n",
      "=700  1\\$aHunter, Virginia.\n",
      "=938  \\\\$aBaker and Taylor$bBTCP$n63011276\n",
      "=994  \\\\$a11$bOCL$i00466\n",
      "\n",
      "(1, ['PZ5'], '[1963]', 'The Rand McNally book of favorite pastimes /', ['Boys and girls in these four stories work hard to master ballet dancing, riding, baton twirling, and swimming.']) \n",
      "\n",
      "(30020949, ['DS247.Y4'], 'c1994.', \"Le Yemen : passe et present de l'unite /\", [])\n"
     ]
    }
   ],
   "source": [
    "print(example)\n",
    "print(bibList[0], \"\\n\")\n",
    "print(bibList[random.randint(0, len(bibList))])"
   ]
  },
  {
   "cell_type": "markdown",
   "id": "e7fd43be",
   "metadata": {},
   "source": [
    "### Examples of Records missing LCCNs"
   ]
  },
  {
   "cell_type": "code",
   "execution_count": 6,
   "id": "6e59d820",
   "metadata": {},
   "outputs": [
    {
     "name": "stdout",
     "output_type": "stream",
     "text": [
      "=LDR  00851cam  2200193Ia 4500\n",
      "=001  ocm11129990\\\n",
      "=003  OCoLC\n",
      "=005  20060407213023.0\n",
      "=008  840907s1955\\\\\\\\nyua\\\\\\\\\\\\\\\\\\\\000\\1\\eng\\d\n",
      "=040  \\\\$aTVP$cTVP$dOCLCQ\n",
      "=029  1\\$aNLGGC$b268913269\n",
      "=092  \\\\$aFIC$bIRV\n",
      "=100  1\\$aIrving, Washington,$d1783-1859.\n",
      "=245  10$aRip van Winkle, and other stories /$cby Washington Irving ; illustrated by Susanne Suba.\n",
      "=260  \\\\$aGarden City, N.Y. :$bNelson Doubleday,$cc1955.\n",
      "=300  \\\\$a285 p.$billus.$c22 cm.\n",
      "=505  0\\$aRip van Winkle -- The legend of Sleepy Hollow -- Dolph Heyliger -- The legend of the storm-ship -- Kidd the pirate -- The devil and Tom Walker -- Philip of Pokanoket -- The early experiences of Ralph Ringwood -- The phantom island -- The adalantado of the seven cities.\n",
      "=700  1\\$aSuba, Susanne,$d1913-\n",
      "=994  \\\\$a11$bOCL$i02162\n",
      "\n",
      "=LDR  01082cam  2200253Ia 4500\n",
      "=001  ocm27787457\\\n",
      "=003  OCoLC\n",
      "=005  20050323183833.0\n",
      "=007  he\\bmb---buuu\n",
      "=008  930324s1992\\\\\\\\dcua\\\\\\\\bb\\\\\\f000\\0\\eng\\d\n",
      "=040  \\\\$aGPO$cGPO$dOCL$dSPI$dOCL$dOCLCQ\n",
      "=074  \\\\$a0830-D (MF)\n",
      "=086  0\\$aNAS 1.15:105675\n",
      "=100  1\\$aPanda, J.\n",
      "=245  10$aExperimental investigation of the flowfield of an oscillating airfoil$h[microform] /$cJ. Panda and K.B.M.Q. Zaman.\n",
      "=260  \\\\$a[Washington, DC] :$bNational Aeronautics and Space Administration ;$a[Springfield, Va.? :$bNational Technical Information Service, distributor,$c1992]\n",
      "=300  \\\\$a18 p. :$bill. ;$c28 cm.\n",
      "=440  \\0$aNASA technical memorandum ;$v105675\n",
      "=504  \\\\$aIncludes bibliographical references (p. 9-10).\n",
      "=533  \\\\$aMicrofiche.$b[Washington, D.C. :$cNational Aeronautics and Space Administration],$d1992.$e1 microfiche.\n",
      "=650  \\0$aAerofoils.\n",
      "=700  1\\$aZaman, Zaman, K. B. M. Q.$q(Khairul B. M. Q.)\n",
      "=710  1\\$aUnited States.$bNational Aeronautics and Space Administration.\n",
      "=994  \\\\$a11$bOCL$i00660\n",
      "\n"
     ]
    }
   ],
   "source": [
    "for i in range(2):\n",
    "    index = random.randint(0, len(noLCC))\n",
    "    print(noLCC[index])"
   ]
  },
  {
   "cell_type": "code",
   "execution_count": null,
   "id": "39a31d54",
   "metadata": {},
   "outputs": [],
   "source": []
  }
 ],
 "metadata": {
  "kernelspec": {
   "display_name": "Python 3 (ipykernel)",
   "language": "python",
   "name": "python3"
  },
  "language_info": {
   "codemirror_mode": {
    "name": "ipython",
    "version": 3
   },
   "file_extension": ".py",
   "mimetype": "text/x-python",
   "name": "python",
   "nbconvert_exporter": "python",
   "pygments_lexer": "ipython3",
   "version": "3.8.8"
  }
 },
 "nbformat": 4,
 "nbformat_minor": 5
}
